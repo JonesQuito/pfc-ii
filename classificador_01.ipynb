{
 "cells": [
  {
   "cell_type": "code",
   "execution_count": 1,
   "metadata": {},
   "outputs": [],
   "source": [
    "# Classificador 01\n",
    "# importando o nltk\n",
    "import nltk\n",
    "import os\n",
    "from modulos.file import getDirectories\n",
    "from modulos.file import getFilesByType, cleaner\n",
    "from nltk.corpus import stopwords\n",
    "from nltk.tokenize import word_tokenize\n"
   ]
  },
  {
   "cell_type": "code",
   "execution_count": 2,
   "metadata": {},
   "outputs": [
    {
     "data": {
      "text/plain": [
       "['carlosDrumm', 'clariceLispec', 'manoelBand']"
      ]
     },
     "execution_count": 2,
     "metadata": {},
     "output_type": "execute_result"
    }
   ],
   "source": [
    "# Recupera a lista de subdiretórios do diretório datasource\n",
    "folderList = getDirectories('datasource', 0)\n",
    "folderList.remove('.ipynb_checkpoints')\n",
    "folderList"
   ]
  },
  {
   "cell_type": "code",
   "execution_count": 3,
   "metadata": {},
   "outputs": [],
   "source": [
    "# concatenar todos os textos de cada autor de modo que só haja uma representação de texto por autor (abordagem de perfis)\n",
    "perfil = {}\n",
    "documentCount = 0\n",
    "for folder in folderList:\n",
    "    rootPath = 'datasource/' + folder\n",
    "    paths = getFilesByType(rootPath, 'txt')\n",
    "    \n",
    "    textoFull = ''\n",
    "    for file in paths:\n",
    "        documentCount += 1\n",
    "        currentPath = rootPath+'/'+file\n",
    "        texto = open(currentPath, 'r', encoding='utf-8').read()\n",
    "        textoFull = textoFull + texto + '\\n'\n",
    "    perfil[folder] = textoFull\n",
    "    \n",
    "\n",
    "#print(perfil['carlosDrumm'])\n",
    "        "
   ]
  },
  {
   "cell_type": "code",
   "execution_count": 4,
   "metadata": {},
   "outputs": [
    {
     "name": "stdout",
     "output_type": "stream",
     "text": [
      "Total de documentos =  47\n"
     ]
    }
   ],
   "source": [
    "print('Total de documentos = ' ,documentCount)"
   ]
  },
  {
   "cell_type": "code",
   "execution_count": 5,
   "metadata": {},
   "outputs": [],
   "source": [
    "from modulos.file import getDirectories\n",
    "from modulos.utils import only_stopwords\n"
   ]
  },
  {
   "cell_type": "code",
   "execution_count": 6,
   "metadata": {},
   "outputs": [],
   "source": [
    "# Drop tabela e recria\n",
    "import psycopg2\n",
    "try:\n",
    "    conn = psycopg2.connect(host='localhost', database='tccii', user='postgres', password='123456')\n",
    "    cursor = conn.cursor()\n",
    "    droptable = 'drop table if exists resources'\n",
    "    createtable = 'create table resources ( id serial, autor varchar(100), resourceSize integer, perfil text);'\n",
    "    cursor.execute(droptable)\n",
    "    cursor.execute(createtable)\n",
    "    conn.commit()\n",
    "    conn.close()\n",
    "except Exception as e:\n",
    "    print(e)"
   ]
  },
  {
   "cell_type": "code",
   "execution_count": 7,
   "metadata": {},
   "outputs": [
    {
     "name": "stdout",
     "output_type": "stream",
     "text": [
      "carlosDrumm\n",
      "clariceLispec\n",
      "manoelBand\n"
     ]
    }
   ],
   "source": [
    "# Percorre cada perfil e remove toda palavra que não é uma stopword\n",
    "import psycopg2\n",
    "conn = psycopg2.connect(host='localhost', database='tccii', user='postgres', password='123456')\n",
    "cursor = conn.cursor()\n",
    "for p in perfil:\n",
    "    perfil[p], size = only_stopwords(perfil[p])\n",
    "    #print(\"insert into resources values (default, '\" + p + \"', \" + str(size) + \", '\" + perfil[p] +\"')\")\n",
    "    sql = \"insert into resources values (default, '\" + p + \"', \" + str(size) + \", '\" + perfil[p] +\"')\"\n",
    "    cursor.execute(sql)\n",
    "    conn.commit()\n",
    "    print(p)\n",
    "conn.close()"
   ]
  },
  {
   "cell_type": "code",
   "execution_count": 8,
   "metadata": {},
   "outputs": [
    {
     "data": {
      "text/plain": [
       "<bound method NDFrame.head of            autor  resourcesize  \\\n",
       "0    carlosDrumm           300   \n",
       "1  clariceLispec           300   \n",
       "2     manoelBand           300   \n",
       "\n",
       "                                              perfil  \n",
       "0  que que as não tem é sem que não quando o e na...  \n",
       "1  me a de e e e de a de esse como uma com que eu...  \n",
       "2  a das se ou eu tenha ou meu foi a com os seus ...  >"
      ]
     },
     "execution_count": 8,
     "metadata": {},
     "output_type": "execute_result"
    }
   ],
   "source": [
    "import pandas as pd\n",
    "import psycopg2\n",
    "select = 'select autor, resourceSize, perfil from resources'\n",
    "conn = psycopg2.connect(host='localhost', database='tccii', user='postgres', password='123456')\n",
    "df =pd.read_sql_query(select, con = conn)\n",
    "df.head"
   ]
  },
  {
   "cell_type": "code",
   "execution_count": 10,
   "metadata": {},
   "outputs": [
    {
     "data": {
      "text/plain": [
       "<Figure size 432x360 with 0 Axes>"
      ]
     },
     "metadata": {},
     "output_type": "display_data"
    },
    {
     "data": {
      "image/png": "[encoded data removed]",
      "text/plain": [
       "<Figure size 432x288 with 1 Axes>"
      ]
     },
     "metadata": {
      "needs_background": "light"
     },
     "output_type": "display_data"
    }
   ],
   "source": [
    "import matplotlib.pyplot as plt\n",
    "fig = plt.figure(figsize=(6,5))\n",
    "df.groupby(by='autor').sum(axis=1, skipna=True).plot.bar(ylim=0, title='Distribuição de recursos por autor')\n",
    "plt.show()"
   ]
  },
  {
   "cell_type": "code",
   "execution_count": 11,
   "metadata": {},
   "outputs": [
    {
     "data": {
      "text/plain": [
       "<matplotlib.axes._subplots.AxesSubplot at 0xf159030>"
      ]
     },
     "execution_count": 11,
     "metadata": {},
     "output_type": "execute_result"
    },
    {
     "data": {
      "image/png": "[encoded data removed]",
      "text/plain": [
       "<Figure size 432x288 with 1 Axes>"
      ]
     },
     "metadata": {},
     "output_type": "display_data"
    }
   ],
   "source": [
    "df.groupby('autor').perfil.count().plot.pie(title='Distribuição de recursos por autor')"
   ]
  },
  {
   "cell_type": "code",
   "execution_count": 12,
   "metadata": {},
   "outputs": [],
   "source": [
    "\n",
    "import psycopg2\n",
    "import pandas as pd\n",
    "\n",
    "\n",
    "conn = psycopg2.connect(host='localhost', database='tccii', user='postgres', password='123456')\n",
    "df = pd.read_sql_query(\"select * from resources\",con=conn)"
   ]
  },
  {
   "cell_type": "code",
   "execution_count": 13,
   "metadata": {},
   "outputs": [],
   "source": [
    "# Determina que o DataFrame terá apenas as colunas 'classe' e 'narrativa'\n",
    "\n",
    "col = ['autor', 'perfil']\n",
    "df = df[col]\n",
    "\n",
    "df = df[pd.notnull(df['perfil'])] # Elimina linhas onde perfil seja null\n",
    "df.columns = ['autor', 'perfil']\n",
    "df['id'] = df['autor'].factorize()[0]\n",
    "categoria_id_df = df[['autor', 'id']].drop_duplicates().sort_values('id')\n",
    "categoria_para_id = dict(categoria_id_df.values)\n",
    "id_para_categoria = dict(categoria_id_df[['id', 'autor']].values)"
   ]
  },
  {
   "cell_type": "code",
   "execution_count": 14,
   "metadata": {},
   "outputs": [],
   "source": [
    "from sklearn.model_selection import train_test_split\n",
    "from sklearn.feature_extraction.text import CountVectorizer\n",
    "from sklearn.feature_extraction.text import TfidfTransformer\n",
    "\n",
    "from sklearn.naive_bayes import MultinomialNB\n",
    "from sklearn.svm import LinearSVC"
   ]
  },
  {
   "cell_type": "code",
   "execution_count": 15,
   "metadata": {},
   "outputs": [],
   "source": [
    "X_train, X_test, y_train, y_test = train_test_split(df['perfil'], df['autor'], random_state = 0)\n",
    "count_vect = CountVectorizer()\n",
    "X_train_counts = count_vect.fit_transform(X_train)\n",
    "tfidf_transformer = TfidfTransformer()\n",
    "X_train_tfidf = tfidf_transformer.fit_transform(X_train_counts)\n",
    "\n",
    "clf = MultinomialNB().fit(X_train_tfidf, y_train)\n",
    "clfLSVC = LinearSVC().fit(X_train_tfidf, y_train)"
   ]
  },
  {
   "cell_type": "code",
   "execution_count": 17,
   "metadata": {},
   "outputs": [
    {
     "name": "stdout",
     "output_type": "stream",
     "text": [
      "eu o meu fosse as mais e fosse como um sem tivesse a das sem da em que se os mais dos que se sem\n",
      "['carlosDrumm']\n",
      "['carlosDrumm']\n"
     ]
    }
   ],
   "source": [
    "# Manoel Bandeiras\n",
    "texto ='Assim eu quereria o meu último poema. Que fosse terno dizendo as coisas mais simples e menos intencionais Que fosse ardente como um soluço sem lágrimas Que tivesse a beleza das flores quase sem perfume A pureza da chama em que se consomem os diamantes mais límpidos A paixão dos suicidas que se matam sem explicação.'\n",
    "texto = only_stopwords(texto)[0]\n",
    "print(texto)\n",
    "\n",
    "print(clf.predict(count_vect.transform([texto])))\n",
    "print(clfLSVC.predict(count_vect.transform([texto])))"
   ]
  },
  {
   "cell_type": "code",
   "execution_count": 18,
   "metadata": {},
   "outputs": [
    {
     "name": "stdout",
     "output_type": "stream",
     "text": [
      "os teus são de os teus de sem as são os teus esses um ao para em em os teus em os sem que são no dos no dos os teus dos são os teus isso não nos teus\n",
      "['carlosDrumm']\n",
      "['carlosDrumm']\n"
     ]
    }
   ],
   "source": [
    "# Manoel Bandeiras\n",
    "texto = 'Meu Quintana, os teus cantares Não são, Quintana, cantares: São, Quintana, quintanares.  Quinta-essência de cantares... Insólitos, singulares... Cantares? Não! Quintanares!  Quer livres, quer regulares, Abrem sempre os teus cantares Como flor de quintanares.  São cantigas sem esgares. Onde as lágrimas são mares De amor, os teus quintanares.  São feitos esses cantares De um tudo-nada: ao falares, Luzem estrelas luares.  São para dizer em bares Como em mansões seculares Quintana, os teus quintanares.  Sim, em bares, onde os pares Se beijam sem que repares Que são casais exemplares.  E quer no pudor dos lares. Quer no horror dos lupanares. Cheiram sempre os teus cantares  Ao ar dos melhores ares, Pois são simples, invulgares. Quintana, os teus quintanares.  Por isso peço não pares, Quintana, nos teus cantares... Perdão! digo quintanares.'\n",
    "texto = only_stopwords(texto)[0]\n",
    "print(texto)\n",
    "\n",
    "print(clf.predict(count_vect.transform([texto])))\n",
    "print(clfLSVC.predict(count_vect.transform([texto])))"
   ]
  },
  {
   "cell_type": "code",
   "execution_count": 27,
   "metadata": {},
   "outputs": [
    {
     "name": "stdout",
     "output_type": "stream",
     "text": [
      "['carlosDrumm']\n",
      "['carlosDrumm']\n"
     ]
    }
   ],
   "source": [
    "# Manoel Bandeiras (usado para treinar o classificador)\n",
    "texto = 'Chama e Fumo  Amor – chama, e, depois, fumaça… Medita no que vais fazer: O fumo vem, a chama passa… Gozo cruel, ventura escassa, Dono do meu e do teu ser, Amor – chama, e, depois, fumaça… Tanto ele queima! e, por desgraça, Queimando o que melhor houver, O fumo vem, a chama passa… Paixão puríssima ou devassa, Triste ou feliz, pena ou prazer, Amor – chama, e, depois, fumaça… A cada par que a aurora enlaça, Como é pungente o entardecer! O fumo vem, a chama passa… Antes, todo ele é gosto e graça. Amor, fogueira linha a arder! Amor – chama, e, depois, fumaça… Porquanto, mal se satisfaça (Como te poderei dizer?…), O fumo vem, a chama passa… A chama queima. O fumo embaça. Tão triste que é! Mas… tem de ser… Amor?… – chama, e, depois, fumaça: O fumo vem, a chama passa…'\n",
    "texto = only_stopwords(texto)[0]\n",
    "print(clf.predict(count_vect.transform([texto])))\n",
    "print(clfLSVC.predict(count_vect.transform([texto])))\n"
   ]
  },
  {
   "cell_type": "code",
   "execution_count": 19,
   "metadata": {},
   "outputs": [
    {
     "name": "stdout",
     "output_type": "stream",
     "text": [
      "que que as não tem é sem que não quando o e na com o que é e sem na sua é que se de um eu do uma não de seu e ele será de\n",
      "['clariceLispec']\n",
      "['carlosDrumm']\n"
     ]
    }
   ],
   "source": [
    "# Carlos Drummond\n",
    "texto = 'Por que Deus permite que as mães vão-se embora? Mãe não tem limite, é tempo sem hora, luz que não apaga quando sopra o vento e chuva desaba, veludo escondido na pele enrugada, água pura, ar puro, puro pensamento. Morrer acontece com o que é breve e passa sem deixar vestígio. Mãe, na sua graça, é eternidade. Por que Deus se lembra - mistério profundo - de tirá-la um dia? Fosse eu Rei do Mundo, baixava uma lei: Mãe não morre nunca, mãe ficará sempre junto de seu filho e ele, velho embora, será pequenino feito grão de milho.'\n",
    "texto = only_stopwords(texto)[0]\n",
    "print(texto)\n",
    "print(clf.predict(count_vect.transform([texto])))\n",
    "print(clfLSVC.predict(count_vect.transform([texto])))"
   ]
  },
  {
   "cell_type": "code",
   "execution_count": 23,
   "metadata": {},
   "outputs": [
    {
     "name": "stdout",
     "output_type": "stream",
     "text": [
      "me a de e e e de a de esse como uma com que eu seja a a em com que eu com este e como o que e com que eu tenha a de sem as à minha e ao meu com que a não me com que minha me de com que eu tenha a de me com que eu com o e mesmo me como se estivesse de em teus o meu de\n",
      "['clariceLispec']\n",
      "['clariceLispec']\n"
     ]
    }
   ],
   "source": [
    "# Clarisse Lispector (usado no treinamento)\n",
    "texto = 'MEU DEUS, ME DÊ A CORAGEM Meu Deus, me dê a coragem de viver trezentos e sessenta e cinco dias e noites, todos vazios de Tua presença. Me dê a coragem de considerar esse vazio como uma plenitude. Faça com que eu seja a Tua amante humilde, entrelaçada a Ti em êxtase. Faça com que eu possa falar com este vazio tremendo e receber como resposta o amor materno que nutre e embala. Faça com que eu tenha a coragem de Te amar, sem odiar as Tuas ofensas à minha alma e ao meu corpo. Faça com que a solidão não me destrua. Faça com que minha solidão me sirva de companhia. Faça com que eu tenha a coragem de me enfrentar. Faça com que eu saiba ficar com o nada e mesmo assim me sentir como se estivesse plena de tudo. Receba em teus braços o meu pecado de pensar.'\n",
    "texto = only_stopwords(texto)[0]\n",
    "print(texto)\n",
    "print(clf.predict(count_vect.transform([texto])))\n",
    "print(clfLSVC.predict(count_vect.transform([texto])))"
   ]
  },
  {
   "cell_type": "code",
   "execution_count": 25,
   "metadata": {},
   "outputs": [
    {
     "name": "stdout",
     "output_type": "stream",
     "text": [
      "['clariceLispec']\n",
      "['clariceLispec']\n"
     ]
    }
   ],
   "source": [
    "# Clarisse Lispecto( usado no treinamento)\n",
    "texto = 'O que me tranquiliza é que tudo o que existe, existe com uma precisão absoluta. O que for do tamanho de uma cabeça de alfinete não transborda nem uma fração de milímetro além do tamanho de uma cabeça de alfinete. Tudo o que existe é de uma grande exatidão. Pena é que a maior parte do que existe com essa exatidão nos é tecnicamente invisível. O bom é que a verdade chega a nós como um sentido secreto das coisas. Nós terminamos adivinhando, confusos, a perfeição.'\n",
    "texto = only_stopwords(texto)[0]\n",
    "print(clf.predict(count_vect.transform([texto])))\n",
    "print(clfLSVC.predict(count_vect.transform([texto])))"
   ]
  }
 ],
 "metadata": {
  "kernelspec": {
   "display_name": "Python 3",
   "language": "python",
   "name": "python3"
  },
  "language_info": {
   "codemirror_mode": {
    "name": "ipython",
    "version": 3
   },
   "file_extension": ".py",
   "mimetype": "text/x-python",
   "name": "python",
   "nbconvert_exporter": "python",
   "pygments_lexer": "ipython3",
   "version": "3.7.3"
  }
 },
 "nbformat": 4,
 "nbformat_minor": 2
}
